{
 "cells": [
  {
   "cell_type": "markdown",
   "id": "a5416f03-c7e6-40e5-b213-4f24db1122a9",
   "metadata": {
    "tags": []
   },
   "source": [
    "## Imports"
   ]
  },
  {
   "cell_type": "code",
   "execution_count": 1,
   "id": "f593d833-b4c8-431f-97b2-766f25be0c43",
   "metadata": {},
   "outputs": [],
   "source": [
    "import zipfile\n",
    "import numpy as np\n",
    "import pandas as pd\n",
    "from sklearn.model_selection import train_test_split\n",
    "from datetime import date, timedelta\n",
    "from datetime import *\n",
    "from matplotlib import pyplot as plt\n",
    "from statsmodels.tsa.stattools import coint\n",
    "from sklearn.neighbors import KNeighborsClassifier\n",
    "from sklearn.metrics import confusion_matrix\n",
    "from sklearn.cluster import KMeans\n",
    "from sklearn.ensemble import RandomForestClassifier\n",
    "from sklearn.metrics import plot_confusion_matrix\n",
    "from sklearn.linear_model import LinearRegression\n",
    "from sklearn.linear_model import Ridge\n",
    "from sklearn.preprocessing import PolynomialFeatures\n",
    "from sklearn import metrics"
   ]
  },
  {
   "cell_type": "markdown",
   "id": "0e10effd-6481-4618-8e48-203e787700da",
   "metadata": {
    "tags": []
   },
   "source": [
    "## Getting the data.."
   ]
  },
  {
   "cell_type": "code",
   "execution_count": 2,
   "id": "271fa881-8526-49de-b1f2-323f2d475ed4",
   "metadata": {},
   "outputs": [
    {
     "data": {
      "text/html": [
       "<div>\n",
       "<style scoped>\n",
       "    .dataframe tbody tr th:only-of-type {\n",
       "        vertical-align: middle;\n",
       "    }\n",
       "\n",
       "    .dataframe tbody tr th {\n",
       "        vertical-align: top;\n",
       "    }\n",
       "\n",
       "    .dataframe thead th {\n",
       "        text-align: right;\n",
       "    }\n",
       "</style>\n",
       "<table border=\"1\" class=\"dataframe\">\n",
       "  <thead>\n",
       "    <tr style=\"text-align: right;\">\n",
       "      <th></th>\n",
       "      <th>price</th>\n",
       "      <th>quantity</th>\n",
       "      <th>sum</th>\n",
       "      <th>epoch-time</th>\n",
       "      <th>fluctuation</th>\n",
       "    </tr>\n",
       "  </thead>\n",
       "  <tbody>\n",
       "    <tr>\n",
       "      <th>0</th>\n",
       "      <td>6244.33</td>\n",
       "      <td>0.002000</td>\n",
       "      <td>12.488660</td>\n",
       "      <td>1578038400000</td>\n",
       "      <td>1</td>\n",
       "    </tr>\n",
       "    <tr>\n",
       "      <th>1</th>\n",
       "      <td>6437.82</td>\n",
       "      <td>0.018748</td>\n",
       "      <td>120.696249</td>\n",
       "      <td>1578038480040</td>\n",
       "      <td>1</td>\n",
       "    </tr>\n",
       "    <tr>\n",
       "      <th>2</th>\n",
       "      <td>6433.99</td>\n",
       "      <td>0.045908</td>\n",
       "      <td>295.371613</td>\n",
       "      <td>1578038480040</td>\n",
       "      <td>0</td>\n",
       "    </tr>\n",
       "    <tr>\n",
       "      <th>3</th>\n",
       "      <td>6478.91</td>\n",
       "      <td>0.064122</td>\n",
       "      <td>415.440667</td>\n",
       "      <td>1578038594259</td>\n",
       "      <td>1</td>\n",
       "    </tr>\n",
       "    <tr>\n",
       "      <th>4</th>\n",
       "      <td>6450.00</td>\n",
       "      <td>0.007310</td>\n",
       "      <td>47.149500</td>\n",
       "      <td>1578040692142</td>\n",
       "      <td>0</td>\n",
       "    </tr>\n",
       "  </tbody>\n",
       "</table>\n",
       "</div>"
      ],
      "text/plain": [
       "     price  quantity         sum     epoch-time  fluctuation\n",
       "0  6244.33  0.002000   12.488660  1578038400000            1\n",
       "1  6437.82  0.018748  120.696249  1578038480040            1\n",
       "2  6433.99  0.045908  295.371613  1578038480040            0\n",
       "3  6478.91  0.064122  415.440667  1578038594259            1\n",
       "4  6450.00  0.007310   47.149500  1578040692142            0"
      ]
     },
     "execution_count": 2,
     "metadata": {},
     "output_type": "execute_result"
    }
   ],
   "source": [
    "# Working with monthly data..\n",
    "# https://stackoverflow.com/questions/5734438/how-to-create-a-month-iterator\n",
    "def month_year_iterator(start_year, start_month, end_year, end_month):\n",
    "    start = 12 * start_year + start_month - 1\n",
    "    end = 12 * end_year + end_month - 1\n",
    "    for my in range(start, end):\n",
    "        m, y = divmod(my, 12)\n",
    "        yield m, y + 1\n",
    "        \n",
    "def retrieve_data(start_date, end_date, symbol):\n",
    "    temp = 0\n",
    "    arr = []\n",
    "    data = pd.DataFrame()\n",
    "    for i in month_year_iterator(start_date[0], start_date[1], end_date[0], end_date[1]):\n",
    "        month = str(i[1])\n",
    "        if int(month) < 10: month = f\"0{month}\"\n",
    "        complete_name = f\"{symbol}-trades-{i[0]}-{month}\"\n",
    "        try:\n",
    "            archive = zipfile.ZipFile(complete_name + \".zip\", 'r')\n",
    "        except:\n",
    "            print(f\"File with the name {complete_name}.csv not found. Cycle is stopped.\")\n",
    "            break\n",
    "\n",
    "        with archive.open(complete_name + \".csv\") as datafile:\n",
    "            df = pd.read_csv(datafile, names=[\"id\", \"price\", \"quantity\", \"sum\", \"epoch-time\", \"maker\", \"?\"])\n",
    "        df = df.drop(columns=[\"id\", \"?\", \"maker\"])\n",
    "        \n",
    "        for j in df[\"price\"]:\n",
    "            if j > temp:\n",
    "                arr.append(1)\n",
    "            else:\n",
    "                arr.append(0)\n",
    "            temp = j\n",
    "            \n",
    "        df['fluctuation'] = arr\n",
    "        data = data.append(df, ignore_index=True)\n",
    "        arr = []\n",
    "    return data\n",
    "\n",
    "dataold = retrieve_data((2020, 1), (2021, 12), \"BTCEUR\")\n",
    "\n",
    "dataold.head()\n",
    "\n",
    "# data = pd.read_csv('BNBBTC-trades-2021-01.csv', names=[\"id\", \"price\", \"quantity\", \"sum\", \"epoch-time\", \"maker\", \"?\"])\n",
    "# data = pd.read_csv('BTCEUR-trades-2020-01.csv', names=[\"id\", \"price\", \"quantity\", \"sum\", \"epoch-time\", \"maker\", \"?\"])"
   ]
  },
  {
   "cell_type": "code",
   "execution_count": 3,
   "id": "75199a4d-d85f-4ee3-a9e9-c7f0ed7d9dd3",
   "metadata": {},
   "outputs": [
    {
     "data": {
      "text/html": [
       "<div>\n",
       "<style scoped>\n",
       "    .dataframe tbody tr th:only-of-type {\n",
       "        vertical-align: middle;\n",
       "    }\n",
       "\n",
       "    .dataframe tbody tr th {\n",
       "        vertical-align: top;\n",
       "    }\n",
       "\n",
       "    .dataframe thead th {\n",
       "        text-align: right;\n",
       "    }\n",
       "</style>\n",
       "<table border=\"1\" class=\"dataframe\">\n",
       "  <thead>\n",
       "    <tr style=\"text-align: right;\">\n",
       "      <th></th>\n",
       "      <th>price</th>\n",
       "      <th>quantity</th>\n",
       "      <th>sum</th>\n",
       "      <th>epoch-time</th>\n",
       "      <th>fluctuation</th>\n",
       "    </tr>\n",
       "  </thead>\n",
       "  <tbody>\n",
       "    <tr>\n",
       "      <th>0</th>\n",
       "      <td>6244.33</td>\n",
       "      <td>0.002000</td>\n",
       "      <td>12.488660</td>\n",
       "      <td>1578038400000</td>\n",
       "      <td>1</td>\n",
       "    </tr>\n",
       "    <tr>\n",
       "      <th>1</th>\n",
       "      <td>6437.82</td>\n",
       "      <td>0.018748</td>\n",
       "      <td>120.696249</td>\n",
       "      <td>1578038480040</td>\n",
       "      <td>1</td>\n",
       "    </tr>\n",
       "    <tr>\n",
       "      <th>2</th>\n",
       "      <td>6433.99</td>\n",
       "      <td>0.045908</td>\n",
       "      <td>295.371613</td>\n",
       "      <td>1578038480040</td>\n",
       "      <td>0</td>\n",
       "    </tr>\n",
       "    <tr>\n",
       "      <th>3</th>\n",
       "      <td>6478.91</td>\n",
       "      <td>0.064122</td>\n",
       "      <td>415.440667</td>\n",
       "      <td>1578038594259</td>\n",
       "      <td>1</td>\n",
       "    </tr>\n",
       "    <tr>\n",
       "      <th>4</th>\n",
       "      <td>6450.00</td>\n",
       "      <td>0.007310</td>\n",
       "      <td>47.149500</td>\n",
       "      <td>1578040692142</td>\n",
       "      <td>0</td>\n",
       "    </tr>\n",
       "  </tbody>\n",
       "</table>\n",
       "</div>"
      ],
      "text/plain": [
       "     price  quantity         sum     epoch-time  fluctuation\n",
       "0  6244.33  0.002000   12.488660  1578038400000            1\n",
       "1  6437.82  0.018748  120.696249  1578038480040            1\n",
       "2  6433.99  0.045908  295.371613  1578038480040            0\n",
       "3  6478.91  0.064122  415.440667  1578038594259            1\n",
       "4  6450.00  0.007310   47.149500  1578040692142            0"
      ]
     },
     "execution_count": 3,
     "metadata": {},
     "output_type": "execute_result"
    }
   ],
   "source": [
    "data = dataold[:2000000]\n",
    "data.head()\n",
    "\n",
    "#pd.options.mode.chained_assignment = None\n",
    "#data[\"epoch-time\"] = data[\"epoch-time\"].apply(lambda x: pd.to_datetime(datetime.fromtimestamp(x/1000).strftime('%Y-%m-%d %H:%M')))"
   ]
  },
  {
   "cell_type": "markdown",
   "id": "5e32e226-ac51-4e17-a2f0-b5f3153160d2",
   "metadata": {
    "tags": []
   },
   "source": [
    "## Splitting"
   ]
  },
  {
   "cell_type": "code",
   "execution_count": 4,
   "id": "1ef88c6c-f7fc-4f7b-b426-5235a64e90a2",
   "metadata": {},
   "outputs": [],
   "source": [
    "def split(data, data_percentage, testing_percentage):\n",
    "    data_size = len(data) \n",
    "    size = int(round((data_size * data_percentage), 0))\n",
    "    #print(size)\n",
    "    amount = int(round(size*testing_percentage, 0))\n",
    "    testing = int(size - amount)\n",
    "    y = data[\"fluctuation\"][:size]\n",
    "    x = data.drop(columns=[\"fluctuation\"])[:size]\n",
    "    return x[:amount], x[-testing:], y[:amount], y[-testing:]\n",
    "\n",
    "X_train,X_test,Y_train,Y_test = train_test_split(data.drop(columns=[\"fluctuation\"]), data[\"fluctuation\"], test_size=0.2, random_state=0, shuffle=True)\n",
    "X_train_reg,X_test_reg,Y_train_reg,Y_test_reg = train_test_split(data.drop(columns=[\"price\"]), data[\"price\"], test_size=0.2, random_state=0, shuffle=False)"
   ]
  },
  {
   "cell_type": "markdown",
   "id": "71c01b91-2975-4081-8d0c-e61544344b4a",
   "metadata": {
    "tags": []
   },
   "source": [
    "## Some plotting.."
   ]
  },
  {
   "cell_type": "code",
   "execution_count": 5,
   "id": "6263d685-1f04-4f0f-bb64-0289c44ccbe0",
   "metadata": {},
   "outputs": [
    {
     "data": {
      "text/plain": [
       "<AxesSubplot:xlabel='epoch-time'>"
      ]
     },
     "execution_count": 5,
     "metadata": {},
     "output_type": "execute_result"
    },
    {
     "data": {
      "image/png": "[encoded data removed]",
      "text/plain": [
       "<Figure size 1512x216 with 1 Axes>"
      ]
     },
     "metadata": {
      "needs_background": "light"
     },
     "output_type": "display_data"
    }
   ],
   "source": [
    "plt.rcParams[\"figure.figsize\"] = (21, 3)\n",
    "dataforplot = data.copy()\n",
    "dataforplot[\"epoch-time\"] = dataforplot[\"epoch-time\"].apply(lambda x: datetime.fromtimestamp(x/1000).strftime('%Y-%m-%d %H:%M'))\n",
    "dataforplot.plot(x = \"epoch-time\", y = \"price\")"
   ]
  },
  {
   "cell_type": "markdown",
   "id": "81d9bbb4-c5a6-45c8-9616-1b7710b1785b",
   "metadata": {
    "tags": []
   },
   "source": [
    "## Accuracy testing function"
   ]
  },
  {
   "cell_type": "code",
   "execution_count": 6,
   "id": "f314b0e2-7771-47c4-8c10-480ac0293fae",
   "metadata": {},
   "outputs": [],
   "source": [
    "def accuracy(test, prediction):\n",
    "    size = len(test)\n",
    "    if len(prediction) != size: raise Exception(\"Testing items must match the prediction items!\")\n",
    "    accuracy = 0\n",
    "\n",
    "    for i in range(size):\n",
    "        if round(prediction[i], 2) == test[i]:\n",
    "            accuracy += 1\n",
    "    \n",
    "    return accuracy / size"
   ]
  },
  {
   "cell_type": "code",
   "execution_count": 7,
   "id": "fa5e4c65-ca41-4952-8a36-eb1c6ac4764d",
   "metadata": {},
   "outputs": [],
   "source": [
    "# Sort dataframe by datetime\n",
    "def correctdf(data, predict):\n",
    "    data[\"predict\"] = predict\n",
    "    data.sort_values(by='epoch-time')\n",
    "    return data[\"epoch-time\"], data[\"predict\"]"
   ]
  },
  {
   "cell_type": "markdown",
   "id": "7ea386a7-e040-4d60-8538-42cee3e6034e",
   "metadata": {},
   "source": [
    "## Linear Regression"
   ]
  },
  {
   "cell_type": "code",
   "execution_count": 8,
   "id": "22a627dd-89b8-4481-b5c2-debb3f334db6",
   "metadata": {},
   "outputs": [
    {
     "name": "stdout",
     "output_type": "stream",
     "text": [
      "[9897.175681779481, 9934.898425743711, 9881.839439634176, 9917.460090524197, 9882.149237379635, 9918.547579402162, 9882.154709719616, 9882.970739202952, 10030.659420391166, 9882.145680608985]\n"
     ]
    }
   ],
   "source": [
    "linear_regression = LinearRegression().fit(X_train_reg, Y_train_reg)\n",
    "y_linear_prediction = linear_regression.predict(X_test_reg)\n",
    "y_linear_prediction = [abs(x) for x in y_linear_prediction.tolist()]\n",
    "print(y_linear_prediction[:10])"
   ]
  },
  {
   "cell_type": "markdown",
   "id": "2378177d-079c-4010-86b0-30292ef2bdb0",
   "metadata": {},
   "source": [
    "## Polynomial Regression"
   ]
  },
  {
   "cell_type": "code",
   "execution_count": 9,
   "id": "b8c05a2f-9433-464a-af0a-667a4c2f3d22",
   "metadata": {},
   "outputs": [
    {
     "name": "stdout",
     "output_type": "stream",
     "text": [
      "[9458.879536617547, 9487.13739797473, 9444.550903808326, 9477.843978408724, 9444.837796088308, 9471.857695229352, 9444.842391610146, 9445.604509014636, 9583.984587769955, 9444.828769862652]\n"
     ]
    }
   ],
   "source": [
    "polynomial_features = PolynomialFeatures(degree=2, include_bias=True)  # Get features\n",
    "x_poly = polynomial_features.fit_transform(X_train_reg)\n",
    "x_test_poly = polynomial_features.transform(X_test_reg)\n",
    "polynomial_regression = LinearRegression().fit(x_poly, Y_train_reg) # Train model\n",
    "poly_y_prediction = polynomial_regression.predict(x_test_poly) # Prediction\n",
    "poly_y_prediction = [abs(x) for x in poly_y_prediction.tolist()]\n",
    "print(poly_y_prediction[:10])"
   ]
  },
  {
   "cell_type": "markdown",
   "id": "fb7419d3-8a69-4312-b3b4-0f5b51ef2dcd",
   "metadata": {},
   "source": [
    "## Ridge Regression"
   ]
  },
  {
   "cell_type": "code",
   "execution_count": 10,
   "id": "93a57349-4316-49ab-b9ad-ee1409749aa6",
   "metadata": {},
   "outputs": [
    {
     "name": "stderr",
     "output_type": "stream",
     "text": [
      "C:\\Users\\romet\\anaconda3\\lib\\site-packages\\sklearn\\linear_model\\_ridge.py:147: LinAlgWarning: Ill-conditioned matrix (rcond=8.8026e-24): result may not be accurate.\n",
      "  return linalg.solve(A, Xy, sym_pos=True,\n"
     ]
    }
   ],
   "source": [
    "#https://machinelearningmastery.com/ridge-regression-with-python/\n",
    "ridge = Ridge(alpha=1)\n",
    "ridge.fit(X_train_reg, Y_train_reg)\n",
    "ridge_y_prediction = ridge.predict(X_test_reg)\n",
    "ridge_y_prediction = [abs(x) for x in ridge_y_prediction.tolist()]"
   ]
  },
  {
   "cell_type": "markdown",
   "id": "e3863728-0447-4a8c-a71c-4f8fdbb601d3",
   "metadata": {},
   "source": [
    "## Regression model comparisons"
   ]
  },
  {
   "cell_type": "code",
   "execution_count": 11,
   "id": "7573a7b0-7546-4941-a65b-baabd3fc4920",
   "metadata": {},
   "outputs": [],
   "source": [
    "df = X_test_reg[\"epoch-time\"].apply(lambda x: pd.to_datetime(datetime.fromtimestamp(x/1000).strftime('%Y-%m-%d %H:%M'))).to_frame()\n",
    "df, Y_test_reg = correctdf(df, Y_test_reg)"
   ]
  },
  {
   "cell_type": "code",
   "execution_count": 12,
   "id": "337af30d-3062-4c02-bb69-1e6a5b055998",
   "metadata": {},
   "outputs": [
    {
     "data": {
      "image/png": "[encoded data removed]",
      "text/plain": [
       "<Figure size 1512x216 with 1 Axes>"
      ]
     },
     "metadata": {
      "needs_background": "light"
     },
     "output_type": "display_data"
    },
    {
     "data": {
      "text/plain": [
       "<Figure size 1512x216 with 0 Axes>"
      ]
     },
     "metadata": {},
     "output_type": "display_data"
    }
   ],
   "source": [
    "plt.plot(df[:1000000], Y_test_reg[:1000000], label = \"original\")\n",
    "plt.legend()\n",
    "plt.show()"
   ]
  },
  {
   "cell_type": "code",
   "execution_count": 13,
   "id": "00a992c1-1f80-456d-8967-e3b3c3ed4eb5",
   "metadata": {},
   "outputs": [
    {
     "data": {
      "image/png": "[encoded data removed]",
      "text/plain": [
       "<Figure size 1512x216 with 1 Axes>"
      ]
     },
     "metadata": {
      "needs_background": "light"
     },
     "output_type": "display_data"
    },
    {
     "data": {
      "text/plain": [
       "<Figure size 1512x216 with 0 Axes>"
      ]
     },
     "metadata": {},
     "output_type": "display_data"
    }
   ],
   "source": [
    "plt.plot(df[:1000000], y_linear_prediction[:1000000], label = \"linear\", color='red')\n",
    "plt.legend()\n",
    "plt.show()"
   ]
  },
  {
   "cell_type": "code",
   "execution_count": 14,
   "id": "acf76e24-ee2c-4f29-a15a-76836796b837",
   "metadata": {},
   "outputs": [
    {
     "data": {
      "image/png": "[encoded data removed]",
      "text/plain": [
       "<Figure size 1512x216 with 1 Axes>"
      ]
     },
     "metadata": {
      "needs_background": "light"
     },
     "output_type": "display_data"
    },
    {
     "data": {
      "text/plain": [
       "<Figure size 1512x216 with 0 Axes>"
      ]
     },
     "metadata": {},
     "output_type": "display_data"
    }
   ],
   "source": [
    "plt.plot(df[:1000000], poly_y_prediction[:1000000], label = \"poly\", color='green')\n",
    "plt.legend()\n",
    "plt.show()"
   ]
  },
  {
   "cell_type": "code",
   "execution_count": 15,
   "id": "d9ff3de1-2dd7-400b-bdb0-874156a7ca0e",
   "metadata": {},
   "outputs": [
    {
     "data": {
      "image/png": "[encoded data removed]",
      "text/plain": [
       "<Figure size 1512x216 with 1 Axes>"
      ]
     },
     "metadata": {
      "needs_background": "light"
     },
     "output_type": "display_data"
    },
    {
     "data": {
      "text/plain": [
       "<Figure size 1512x216 with 0 Axes>"
      ]
     },
     "metadata": {},
     "output_type": "display_data"
    }
   ],
   "source": [
    "plt.plot(df[:1000000], ridge_y_prediction[:1000000], label = \"ridge\", color='orange')\n",
    "plt.legend()\n",
    "plt.show()"
   ]
  },
  {
   "cell_type": "markdown",
   "id": "ff565830-ba04-411c-acfa-9ae3d8034651",
   "metadata": {
    "tags": []
   },
   "source": [
    "## Random Forest Classifier"
   ]
  },
  {
   "cell_type": "code",
   "execution_count": 16,
   "id": "06bc4f57-4e88-4427-a257-c7e414f44325",
   "metadata": {},
   "outputs": [],
   "source": [
    "rf = RandomForestClassifier().fit(X_train, Y_train)\n",
    "rf_predict = rf.predict(X_test).tolist()"
   ]
  },
  {
   "cell_type": "code",
   "execution_count": 17,
   "id": "18e2ea4e-8f63-467c-9ca5-af8137202126",
   "metadata": {},
   "outputs": [],
   "source": [
    "rf_matrix = confusion_matrix(Y_test.tolist(), rf_predict, labels=[1,0])\n",
    "rf_accuracy = accuracy(Y_test.tolist(), rf_predict)"
   ]
  },
  {
   "cell_type": "markdown",
   "id": "57e5561d-a353-41f9-a742-4c0ca4c3b37b",
   "metadata": {
    "tags": []
   },
   "source": [
    "## KNN"
   ]
  },
  {
   "cell_type": "code",
   "execution_count": 18,
   "id": "d819f62d-e33d-4af6-9962-33f5661c458f",
   "metadata": {},
   "outputs": [],
   "source": [
    "neigh = KNeighborsClassifier(n_neighbors=5)\n",
    "neigh.fit(X_train, Y_train)\n",
    "neigh_predict = neigh.predict(X_test).tolist()"
   ]
  },
  {
   "cell_type": "code",
   "execution_count": 19,
   "id": "93928eae-8fc9-40a1-b5c3-0871c5a295de",
   "metadata": {},
   "outputs": [],
   "source": [
    "neigh_matrix = confusion_matrix(Y_test.tolist(), neigh_predict, labels=[1,0])\n",
    "neigh_acc = accuracy(Y_test.tolist(), neigh_predict)"
   ]
  },
  {
   "cell_type": "markdown",
   "id": "a71aefa5-22d2-48cd-a94d-aa8c6ca73dba",
   "metadata": {},
   "source": [
    "## K-Means"
   ]
  },
  {
   "cell_type": "code",
   "execution_count": 20,
   "id": "4cb1e991-b3d2-4fd4-ba27-f65932951a21",
   "metadata": {},
   "outputs": [],
   "source": [
    "kmeans = KMeans(n_clusters=2, random_state=0)\n",
    "kmeans.fit(X_train, Y_train)\n",
    "kmeans_predict = kmeans.predict(X_test).tolist()\n",
    "\n",
    "kmeans_acc = accuracy(Y_test.tolist(), kmeans_predict)\n",
    "kmmeans_matrix = confusion_matrix(Y_test.tolist(), kmeans_predict, labels=[1,0])"
   ]
  },
  {
   "cell_type": "markdown",
   "id": "f9e54381-8885-4d10-a722-26f4227cf937",
   "metadata": {
    "tags": []
   },
   "source": [
    "## Accuracy Comparisons Between Classifiers"
   ]
  },
  {
   "cell_type": "code",
   "execution_count": 21,
   "id": "9462fa05-9f4f-467f-a62c-ce97e6dad36a",
   "metadata": {},
   "outputs": [
    {
     "name": "stdout",
     "output_type": "stream",
     "text": [
      "Random Forest Classifier Confusion Matrix\n",
      "K Nearest Neighbors Classifier Confusion Matrix\n"
     ]
    },
    {
     "data": {
      "image/png": "[encoded data removed]",
      "text/plain": [
       "<Figure size 1512x216 with 2 Axes>"
      ]
     },
     "metadata": {
      "needs_background": "light"
     },
     "output_type": "display_data"
    },
    {
     "data": {
      "image/png": "[encoded data removed]",
      "text/plain": [
       "<Figure size 1512x216 with 2 Axes>"
      ]
     },
     "metadata": {
      "needs_background": "light"
     },
     "output_type": "display_data"
    }
   ],
   "source": [
    "print(\"Random Forest Classifier Confusion Matrix\")\n",
    "plot_confusion_matrix(rf, X_test, Y_test, labels=[1,0])\n",
    "\n",
    "print(\"K Nearest Neighbors Classifier Confusion Matrix\")\n",
    "plot_confusion_matrix(neigh, X_test, Y_test, labels=[1,0])"
   ]
  },
  {
   "cell_type": "code",
   "execution_count": 106,
   "id": "a55fd804-aae6-4126-ba17-4e06ee4006b1",
   "metadata": {},
   "outputs": [
    {
     "data": {
      "text/plain": [
       "<BarContainer object of 3 artists>"
      ]
     },
     "execution_count": 106,
     "metadata": {},
     "output_type": "execute_result"
    },
    {
     "data": {
      "image/png": "[encoded data removed]",
      "text/plain": [
       "<Figure size 1512x216 with 1 Axes>"
      ]
     },
     "metadata": {
      "needs_background": "light"
     },
     "output_type": "display_data"
    }
   ],
   "source": [
    "# Classification accuracy values\n",
    "c_acc = [rf_accuracy, neigh_acc, kmeans_acc]\n",
    "c_names = ['RF', 'KNN', 'KMeans']\n",
    "plt.bar(c_names, c_acc)"
   ]
  },
  {
   "cell_type": "markdown",
   "id": "2b0cd83f-3a3d-4052-8771-47c4fb676766",
   "metadata": {},
   "source": [
    "## Determing the cointegration between two specific crypto currencies (ETH - BTC)? (+ graphs)"
   ]
  },
  {
   "cell_type": "code",
   "execution_count": 22,
   "id": "727b1594-d779-4ee3-8bab-8531e5608d91",
   "metadata": {},
   "outputs": [],
   "source": [
    "#https://stackoverflow.com/questions/11362943/efficient-cointegration-test-in-python\n",
    "databtc = dataold[:2000000]\n",
    "dataeth = retrieve_data((2020, 1), (2021, 11), \"ETHEUR\")[:2000000]"
   ]
  },
  {
   "cell_type": "code",
   "execution_count": 23,
   "id": "78595449-2bed-4a6d-82f2-f19d1d8b1283",
   "metadata": {},
   "outputs": [],
   "source": [
    "databtc = data[:len(dataeth)]"
   ]
  },
  {
   "cell_type": "markdown",
   "id": "3982c3ca-2830-4eba-8c0b-7e98edec653e",
   "metadata": {},
   "source": [
    "## Correlation between BTC - ETH"
   ]
  },
  {
   "cell_type": "code",
   "execution_count": 96,
   "id": "b2471814-9216-4c9a-ae55-cc811a305b9a",
   "metadata": {},
   "outputs": [
    {
     "data": {
      "text/plain": [
       "price          0.810345\n",
       "quantity       0.001686\n",
       "sum            0.002449\n",
       "epoch-time     0.880583\n",
       "fluctuation    0.004523\n",
       "dtype: float64"
      ]
     },
     "execution_count": 96,
     "metadata": {},
     "output_type": "execute_result"
    }
   ],
   "source": [
    "databtc.corrwith(dataeth, axis = 0)"
   ]
  },
  {
   "cell_type": "code",
   "execution_count": 103,
   "id": "8aa74a7b-e180-4507-ba88-d3856a1e901c",
   "metadata": {},
   "outputs": [
    {
     "data": {
      "text/html": [
       "<style type=\"text/css\">\n",
       "#T_7f67b_row0_col0, #T_7f67b_row1_col1, #T_7f67b_row2_col2, #T_7f67b_row3_col3, #T_7f67b_row4_col4 {\n",
       "  background-color: #b40426;\n",
       "  color: #f1f1f1;\n",
       "}\n",
       "#T_7f67b_row0_col1 {\n",
       "  background-color: #4358cb;\n",
       "  color: #f1f1f1;\n",
       "}\n",
       "#T_7f67b_row0_col2, #T_7f67b_row3_col2 {\n",
       "  background-color: #5470de;\n",
       "  color: #f1f1f1;\n",
       "}\n",
       "#T_7f67b_row0_col3 {\n",
       "  background-color: #ec7f63;\n",
       "  color: #f1f1f1;\n",
       "}\n",
       "#T_7f67b_row0_col4 {\n",
       "  background-color: #5572df;\n",
       "  color: #f1f1f1;\n",
       "}\n",
       "#T_7f67b_row1_col0, #T_7f67b_row1_col3, #T_7f67b_row1_col4, #T_7f67b_row2_col4, #T_7f67b_row4_col1, #T_7f67b_row4_col2 {\n",
       "  background-color: #3b4cc0;\n",
       "  color: #f1f1f1;\n",
       "}\n",
       "#T_7f67b_row1_col2, #T_7f67b_row2_col1 {\n",
       "  background-color: #ba162b;\n",
       "  color: #f1f1f1;\n",
       "}\n",
       "#T_7f67b_row2_col0, #T_7f67b_row4_col3 {\n",
       "  background-color: #4b64d5;\n",
       "  color: #f1f1f1;\n",
       "}\n",
       "#T_7f67b_row2_col3, #T_7f67b_row3_col1 {\n",
       "  background-color: #485fd1;\n",
       "  color: #f1f1f1;\n",
       "}\n",
       "#T_7f67b_row3_col0 {\n",
       "  background-color: #eb7d62;\n",
       "  color: #f1f1f1;\n",
       "}\n",
       "#T_7f67b_row3_col4 {\n",
       "  background-color: #5977e3;\n",
       "  color: #f1f1f1;\n",
       "}\n",
       "#T_7f67b_row4_col0 {\n",
       "  background-color: #4c66d6;\n",
       "  color: #f1f1f1;\n",
       "}\n",
       "</style>\n",
       "<table id=\"T_7f67b_\">\n",
       "  <thead>\n",
       "    <tr>\n",
       "      <th class=\"blank level0\" >&nbsp;</th>\n",
       "      <th class=\"col_heading level0 col0\" >price</th>\n",
       "      <th class=\"col_heading level0 col1\" >quantity</th>\n",
       "      <th class=\"col_heading level0 col2\" >sum</th>\n",
       "      <th class=\"col_heading level0 col3\" >epoch-time</th>\n",
       "      <th class=\"col_heading level0 col4\" >fluctuation</th>\n",
       "    </tr>\n",
       "  </thead>\n",
       "  <tbody>\n",
       "    <tr>\n",
       "      <th id=\"T_7f67b_level0_row0\" class=\"row_heading level0 row0\" >price</th>\n",
       "      <td id=\"T_7f67b_row0_col0\" class=\"data row0 col0\" >1.000000</td>\n",
       "      <td id=\"T_7f67b_row0_col1\" class=\"data row0 col1\" >-0.012046</td>\n",
       "      <td id=\"T_7f67b_row0_col2\" class=\"data row0 col2\" >0.044571</td>\n",
       "      <td id=\"T_7f67b_row0_col3\" class=\"data row0 col3\" >0.812607</td>\n",
       "      <td id=\"T_7f67b_row0_col4\" class=\"data row0 col4\" >0.049340</td>\n",
       "    </tr>\n",
       "    <tr>\n",
       "      <th id=\"T_7f67b_level0_row1\" class=\"row_heading level0 row1\" >quantity</th>\n",
       "      <td id=\"T_7f67b_row1_col0\" class=\"data row1 col0\" >-0.012046</td>\n",
       "      <td id=\"T_7f67b_row1_col1\" class=\"data row1 col1\" >1.000000</td>\n",
       "      <td id=\"T_7f67b_row1_col2\" class=\"data row1 col2\" >0.980077</td>\n",
       "      <td id=\"T_7f67b_row1_col3\" class=\"data row1 col3\" >0.002350</td>\n",
       "      <td id=\"T_7f67b_row1_col4\" class=\"data row1 col4\" >-0.043577</td>\n",
       "    </tr>\n",
       "    <tr>\n",
       "      <th id=\"T_7f67b_level0_row2\" class=\"row_heading level0 row2\" >sum</th>\n",
       "      <td id=\"T_7f67b_row2_col0\" class=\"data row2 col0\" >0.044571</td>\n",
       "      <td id=\"T_7f67b_row2_col1\" class=\"data row2 col1\" >0.980077</td>\n",
       "      <td id=\"T_7f67b_row2_col2\" class=\"data row2 col2\" >1.000000</td>\n",
       "      <td id=\"T_7f67b_row2_col3\" class=\"data row2 col3\" >0.048198</td>\n",
       "      <td id=\"T_7f67b_row2_col4\" class=\"data row2 col4\" >-0.041066</td>\n",
       "    </tr>\n",
       "    <tr>\n",
       "      <th id=\"T_7f67b_level0_row3\" class=\"row_heading level0 row3\" >epoch-time</th>\n",
       "      <td id=\"T_7f67b_row3_col0\" class=\"data row3 col0\" >0.812607</td>\n",
       "      <td id=\"T_7f67b_row3_col1\" class=\"data row3 col1\" >0.002350</td>\n",
       "      <td id=\"T_7f67b_row3_col2\" class=\"data row3 col2\" >0.048198</td>\n",
       "      <td id=\"T_7f67b_row3_col3\" class=\"data row3 col3\" >1.000000</td>\n",
       "      <td id=\"T_7f67b_row3_col4\" class=\"data row3 col4\" >0.058386</td>\n",
       "    </tr>\n",
       "    <tr>\n",
       "      <th id=\"T_7f67b_level0_row4\" class=\"row_heading level0 row4\" >fluctuation</th>\n",
       "      <td id=\"T_7f67b_row4_col0\" class=\"data row4 col0\" >0.049340</td>\n",
       "      <td id=\"T_7f67b_row4_col1\" class=\"data row4 col1\" >-0.043577</td>\n",
       "      <td id=\"T_7f67b_row4_col2\" class=\"data row4 col2\" >-0.041066</td>\n",
       "      <td id=\"T_7f67b_row4_col3\" class=\"data row4 col3\" >0.058386</td>\n",
       "      <td id=\"T_7f67b_row4_col4\" class=\"data row4 col4\" >1.000000</td>\n",
       "    </tr>\n",
       "  </tbody>\n",
       "</table>\n"
      ],
      "text/plain": [
       "<pandas.io.formats.style.Styler at 0x2391ee6d820>"
      ]
     },
     "execution_count": 103,
     "metadata": {},
     "output_type": "execute_result"
    }
   ],
   "source": [
    "# BTC self correlation\n",
    "corr1 = databtc.corr()\n",
    "corr1.style.background_gradient(cmap='coolwarm')"
   ]
  },
  {
   "cell_type": "code",
   "execution_count": 105,
   "id": "6e5366fc-0046-4e1f-b45f-5d1659d2075d",
   "metadata": {},
   "outputs": [
    {
     "data": {
      "text/html": [
       "<style type=\"text/css\">\n",
       "#T_4a688_row0_col0, #T_4a688_row1_col1, #T_4a688_row2_col2, #T_4a688_row3_col3, #T_4a688_row4_col4 {\n",
       "  background-color: #b40426;\n",
       "  color: #f1f1f1;\n",
       "}\n",
       "#T_4a688_row0_col1, #T_4a688_row1_col0, #T_4a688_row1_col3, #T_4a688_row1_col4, #T_4a688_row2_col4, #T_4a688_row3_col1, #T_4a688_row4_col2 {\n",
       "  background-color: #3b4cc0;\n",
       "  color: #f1f1f1;\n",
       "}\n",
       "#T_4a688_row0_col2 {\n",
       "  background-color: #5572df;\n",
       "  color: #f1f1f1;\n",
       "}\n",
       "#T_4a688_row0_col3, #T_4a688_row3_col0 {\n",
       "  background-color: #d65244;\n",
       "  color: #f1f1f1;\n",
       "}\n",
       "#T_4a688_row0_col4, #T_4a688_row3_col4 {\n",
       "  background-color: #5470de;\n",
       "  color: #f1f1f1;\n",
       "}\n",
       "#T_4a688_row1_col2, #T_4a688_row2_col1 {\n",
       "  background-color: #c53334;\n",
       "  color: #f1f1f1;\n",
       "}\n",
       "#T_4a688_row2_col0, #T_4a688_row4_col3 {\n",
       "  background-color: #5a78e4;\n",
       "  color: #f1f1f1;\n",
       "}\n",
       "#T_4a688_row2_col3, #T_4a688_row4_col0 {\n",
       "  background-color: #5977e3;\n",
       "  color: #f1f1f1;\n",
       "}\n",
       "#T_4a688_row3_col2 {\n",
       "  background-color: #516ddb;\n",
       "  color: #f1f1f1;\n",
       "}\n",
       "#T_4a688_row4_col1 {\n",
       "  background-color: #3f53c6;\n",
       "  color: #f1f1f1;\n",
       "}\n",
       "</style>\n",
       "<table id=\"T_4a688_\">\n",
       "  <thead>\n",
       "    <tr>\n",
       "      <th class=\"blank level0\" >&nbsp;</th>\n",
       "      <th class=\"col_heading level0 col0\" >price</th>\n",
       "      <th class=\"col_heading level0 col1\" >quantity</th>\n",
       "      <th class=\"col_heading level0 col2\" >sum</th>\n",
       "      <th class=\"col_heading level0 col3\" >epoch-time</th>\n",
       "      <th class=\"col_heading level0 col4\" >fluctuation</th>\n",
       "    </tr>\n",
       "  </thead>\n",
       "  <tbody>\n",
       "    <tr>\n",
       "      <th id=\"T_4a688_level0_row0\" class=\"row_heading level0 row0\" >price</th>\n",
       "      <td id=\"T_4a688_row0_col0\" class=\"data row0 col0\" >1.000000</td>\n",
       "      <td id=\"T_4a688_row0_col1\" class=\"data row0 col1\" >-0.060844</td>\n",
       "      <td id=\"T_4a688_row0_col2\" class=\"data row0 col2\" >0.050067</td>\n",
       "      <td id=\"T_4a688_row0_col3\" class=\"data row0 col3\" >0.895985</td>\n",
       "      <td id=\"T_4a688_row0_col4\" class=\"data row0 col4\" >0.043393</td>\n",
       "    </tr>\n",
       "    <tr>\n",
       "      <th id=\"T_4a688_level0_row1\" class=\"row_heading level0 row1\" >quantity</th>\n",
       "      <td id=\"T_4a688_row1_col0\" class=\"data row1 col0\" >-0.060844</td>\n",
       "      <td id=\"T_4a688_row1_col1\" class=\"data row1 col1\" >1.000000</td>\n",
       "      <td id=\"T_4a688_row1_col2\" class=\"data row1 col2\" >0.948346</td>\n",
       "      <td id=\"T_4a688_row1_col3\" class=\"data row1 col3\" >-0.064205</td>\n",
       "      <td id=\"T_4a688_row1_col4\" class=\"data row1 col4\" >-0.043921</td>\n",
       "    </tr>\n",
       "    <tr>\n",
       "      <th id=\"T_4a688_level0_row2\" class=\"row_heading level0 row2\" >sum</th>\n",
       "      <td id=\"T_4a688_row2_col0\" class=\"data row2 col0\" >0.050067</td>\n",
       "      <td id=\"T_4a688_row2_col1\" class=\"data row2 col1\" >0.948346</td>\n",
       "      <td id=\"T_4a688_row2_col2\" class=\"data row2 col2\" >1.000000</td>\n",
       "      <td id=\"T_4a688_row2_col3\" class=\"data row2 col3\" >0.040283</td>\n",
       "      <td id=\"T_4a688_row2_col4\" class=\"data row2 col4\" >-0.040230</td>\n",
       "    </tr>\n",
       "    <tr>\n",
       "      <th id=\"T_4a688_level0_row3\" class=\"row_heading level0 row3\" >epoch-time</th>\n",
       "      <td id=\"T_4a688_row3_col0\" class=\"data row3 col0\" >0.895985</td>\n",
       "      <td id=\"T_4a688_row3_col1\" class=\"data row3 col1\" >-0.064205</td>\n",
       "      <td id=\"T_4a688_row3_col2\" class=\"data row3 col2\" >0.040283</td>\n",
       "      <td id=\"T_4a688_row3_col3\" class=\"data row3 col3\" >1.000000</td>\n",
       "      <td id=\"T_4a688_row3_col4\" class=\"data row3 col4\" >0.044302</td>\n",
       "    </tr>\n",
       "    <tr>\n",
       "      <th id=\"T_4a688_level0_row4\" class=\"row_heading level0 row4\" >fluctuation</th>\n",
       "      <td id=\"T_4a688_row4_col0\" class=\"data row4 col0\" >0.043393</td>\n",
       "      <td id=\"T_4a688_row4_col1\" class=\"data row4 col1\" >-0.043921</td>\n",
       "      <td id=\"T_4a688_row4_col2\" class=\"data row4 col2\" >-0.040230</td>\n",
       "      <td id=\"T_4a688_row4_col3\" class=\"data row4 col3\" >0.044302</td>\n",
       "      <td id=\"T_4a688_row4_col4\" class=\"data row4 col4\" >1.000000</td>\n",
       "    </tr>\n",
       "  </tbody>\n",
       "</table>\n"
      ],
      "text/plain": [
       "<pandas.io.formats.style.Styler at 0x23917782fd0>"
      ]
     },
     "execution_count": 105,
     "metadata": {},
     "output_type": "execute_result"
    }
   ],
   "source": [
    "# ETH self correlation\n",
    "corr2 = dataeth.corr()\n",
    "corr2.style.background_gradient(cmap='coolwarm')"
   ]
  },
  {
   "cell_type": "markdown",
   "id": "8bccd4f4-906d-4083-b631-6e88c90bde88",
   "metadata": {},
   "source": [
    "## Monthly price mean value correlation"
   ]
  },
  {
   "cell_type": "code",
   "execution_count": 57,
   "id": "447cdda5-5d13-4ae2-b823-9ffde2cfc3cf",
   "metadata": {},
   "outputs": [],
   "source": [
    "groupedBtc = databtc.copy()\n",
    "groupedBtc['epoch-time'] = groupedBtc[\"epoch-time\"].apply(lambda x: pd.to_datetime(datetime.fromtimestamp(x/1000).strftime('%Y-%m')).month).to_frame()\n",
    "\n",
    "groupedEth = dataeth.copy()\n",
    "groupedEth['epoch-time'] = groupedEth[\"epoch-time\"].apply(lambda x: pd.to_datetime(datetime.fromtimestamp(x/1000).strftime('%Y-%m')).month).to_frame()"
   ]
  },
  {
   "cell_type": "code",
   "execution_count": 58,
   "id": "b6590a7c-81e9-4218-b2ff-15526c6d25d8",
   "metadata": {},
   "outputs": [],
   "source": [
    "groupedBtc = groupedBtc.groupby(groupedBtc['epoch-time'])\n",
    "groupedEth = groupedEth.groupby(groupedEth['epoch-time'])"
   ]
  },
  {
   "cell_type": "code",
   "execution_count": 92,
   "id": "fcbe2625-0c70-46d3-8cdb-396040f4bb26",
   "metadata": {},
   "outputs": [],
   "source": [
    "groupedBtcMean = pd.DataFrame(groupedBtc['price'].mean())\n",
    "groupedEthMean = pd.DataFrame(groupedEth['price'].mean())"
   ]
  },
  {
   "cell_type": "code",
   "execution_count": 95,
   "id": "bc7f1015-97e0-49fd-96f5-7c4c95ee9094",
   "metadata": {},
   "outputs": [
    {
     "data": {
      "text/plain": [
       "price    0.926477\n",
       "dtype: float64"
      ]
     },
     "execution_count": 95,
     "metadata": {},
     "output_type": "execute_result"
    }
   ],
   "source": [
    "groupedBtcMean.corrwith(groupedEthMean, axis = 0)"
   ]
  }
 ],
 "metadata": {
  "kernelspec": {
   "display_name": "Python 3 (ipykernel)",
   "language": "python",
   "name": "python3"
  },
  "language_info": {
   "codemirror_mode": {
    "name": "ipython",
    "version": 3
   },
   "file_extension": ".py",
   "mimetype": "text/x-python",
   "name": "python",
   "nbconvert_exporter": "python",
   "pygments_lexer": "ipython3",
   "version": "3.9.7"
  }
 },
 "nbformat": 4,
 "nbformat_minor": 5
}
